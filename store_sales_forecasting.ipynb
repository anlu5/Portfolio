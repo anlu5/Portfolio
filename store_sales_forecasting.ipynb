{
 "cells": [
  {
   "cell_type": "code",
   "execution_count": null,
   "metadata": {},
   "outputs": [],
   "source": [
    "import pandas as pd\n",
    "import numpy as np\n",
    "import matplotlib.pyplot as plt\n",
    "import seaborn as sns\n",
    "import plotly.express as px\n"
   ]
  },
  {
   "cell_type": "code",
   "execution_count": null,
   "metadata": {},
   "outputs": [],
   "source": [
    "data = pd.read_csv('../../datas/Store Sales/train.csv')\n",
    "holidays = pd.read_csv('../../datas/Store Sales/holidays_events.csv')\n",
    "oil_price = pd.read_csv('../../datas/Store Sales/oil.csv')\n",
    "transactions = pd.read_csv('../../datas/Store Sales/transactions.csv')\n"
   ]
  },
  {
   "cell_type": "code",
   "execution_count": null,
   "metadata": {},
   "outputs": [],
   "source": [
    "data = data.dropna(ignore_index=True)\n",
    "holidays = holidays.dropna(ignore_index=True)\n",
    "oil_price = oil_price.dropna(ignore_index=True)\n",
    "transactions = transactions.dropna(ignore_index=True)"
   ]
  },
  {
   "cell_type": "code",
   "execution_count": null,
   "metadata": {},
   "outputs": [],
   "source": [
    "data['date'] = pd.to_datetime(data['date'])\n",
    "transactions['date'] = pd.to_datetime(transactions['date'])\n",
    "oil_price['date'] = pd.to_datetime(oil_price['date'])\n",
    "holidays['date'] = pd.to_datetime(holidays['date'])"
   ]
  },
  {
   "cell_type": "code",
   "execution_count": null,
   "metadata": {},
   "outputs": [],
   "source": [
    "data = data[data['date'].dt.year == 2017]\n",
    "data = data[data['date'].dt.month.isin([6, 7, 8])]\n",
    "data = data.rename(columns={'onpromotion': 'on_promotion'})\n",
    "data"
   ]
  },
  {
   "cell_type": "code",
   "execution_count": null,
   "metadata": {},
   "outputs": [],
   "source": [
    "oil_price = oil_price[oil_price['date'].dt.year == 2017]\n",
    "oil_price = oil_price[oil_price['date'].dt.month.isin([6, 7, 8])]\n",
    "oil_price = oil_price.rename(columns={'dcoilwtico': 'oil_price'})\n",
    "oil_price"
   ]
  },
  {
   "cell_type": "code",
   "execution_count": null,
   "metadata": {},
   "outputs": [],
   "source": [
    "holidays"
   ]
  },
  {
   "cell_type": "markdown",
   "metadata": {},
   "source": [
    "EDA"
   ]
  },
  {
   "cell_type": "code",
   "execution_count": null,
   "metadata": {},
   "outputs": [],
   "source": [
    "data.groupby(['store_nbr'])['sales'].sum().sort_values(ascending=False)[:5]"
   ]
  },
  {
   "cell_type": "markdown",
   "metadata": {},
   "source": [
    "EDA on single store"
   ]
  },
  {
   "cell_type": "code",
   "execution_count": null,
   "metadata": {},
   "outputs": [],
   "source": [
    "store_44 = data[data['store_nbr'] == 44].drop(columns='store_nbr')\n",
    "store_44 = store_44.reset_index(drop=True)"
   ]
  },
  {
   "cell_type": "code",
   "execution_count": null,
   "metadata": {},
   "outputs": [],
   "source": [
    "store_44['day'] = store_44['date'].dt.day"
   ]
  },
  {
   "cell_type": "code",
   "execution_count": null,
   "metadata": {},
   "outputs": [],
   "source": [
    "def transform_value(value):\n",
    "    if value in [-1, True]:\n",
    "        return False\n",
    "    elif value is False:\n",
    "        return True\n",
    "    return value"
   ]
  },
  {
   "cell_type": "code",
   "execution_count": null,
   "metadata": {},
   "outputs": [],
   "source": [
    "store_44 = pd.merge(store_44, oil_price, on='date', how='left')\n",
    "store_44['has_oil_price'] = store_44['oil_price'].isna()\n",
    "store_44['oil_price'] = store_44['oil_price'].fillna(0)\n",
    "store_44['has_oil_price'] = store_44['has_oil_price'].apply(transform_value)"
   ]
  },
  {
   "cell_type": "code",
   "execution_count": null,
   "metadata": {},
   "outputs": [],
   "source": [
    "store_44"
   ]
  },
  {
   "cell_type": "code",
   "execution_count": null,
   "metadata": {},
   "outputs": [],
   "source": [
    "is_holiday = pd.merge(store_44, holidays, on='date', how='left')\n",
    "is_holiday = is_holiday[['type', 'locale', 'locale_name', 'description', 'transferred']]\n",
    "is_holiday"
   ]
  },
  {
   "cell_type": "code",
   "execution_count": null,
   "metadata": {},
   "outputs": [],
   "source": [
    "is_holiday[['type', 'locale', 'locale_name', 'description', 'transferred']] = is_holiday[['type', 'locale', 'locale_name', 'description', 'transferred']].fillna(-1)\n",
    "is_holiday"
   ]
  },
  {
   "cell_type": "code",
   "execution_count": null,
   "metadata": {},
   "outputs": [],
   "source": [
    "is_holiday['is_holiday'] = is_holiday['transferred'].apply(transform_value)\n",
    "store_44['is_holiday'] = is_holiday['is_holiday']"
   ]
  },
  {
   "cell_type": "code",
   "execution_count": null,
   "metadata": {},
   "outputs": [],
   "source": [
    "store_44"
   ]
  },
  {
   "cell_type": "code",
   "execution_count": null,
   "metadata": {},
   "outputs": [],
   "source": [
    "# Plot using Plotly\n",
    "fig = px.line(store_44, x='date', y='sales', color='family', title='Sales Over Time for Store 44')\n",
    "\n",
    "# Update layout\n",
    "fig.update_layout(\n",
    "    xaxis_title='Date',\n",
    "    yaxis_title='Sales',\n",
    "    title='Sales Over Time for Store 44',\n",
    "    legend_title='Family'\n",
    ")\n",
    "\n",
    "# Show the plot\n",
    "fig.show()"
   ]
  },
  {
   "cell_type": "code",
   "execution_count": null,
   "metadata": {},
   "outputs": [],
   "source": [
    "# Plot using Plotly\n",
    "fig = px.line(store_44, x='date', y='oil_price', title='Oil Price Over Time')\n",
    "\n",
    "# Update layout\n",
    "fig.update_layout(\n",
    "    xaxis_title='Date',\n",
    "    yaxis_title='Oil Price',\n",
    "    title='Oil Price Over Time'\n",
    ")\n",
    "\n",
    "# Show the plot\n",
    "fig.show()"
   ]
  },
  {
   "cell_type": "code",
   "execution_count": null,
   "metadata": {},
   "outputs": [],
   "source": [
    "categories = store_44.value_counts('family')\n",
    "categories, len(categories)"
   ]
  },
  {
   "cell_type": "markdown",
   "metadata": {},
   "source": [
    "EDA on all stores"
   ]
  },
  {
   "cell_type": "code",
   "execution_count": 243,
   "metadata": {},
   "outputs": [],
   "source": [
    "stores = data.reset_index(drop=True)\n",
    "stores['day'] = stores['date'].dt.day\n",
    "\n",
    "stores = pd.merge(stores, oil_price, on='date', how='left')\n",
    "stores['has_oil_price'] = stores['oil_price'].isna()\n",
    "stores['oil_price'] = stores['oil_price'].fillna(0)\n",
    "stores['has_oil_price'] = stores['has_oil_price'].apply(transform_value)"
   ]
  },
  {
   "cell_type": "code",
   "execution_count": 244,
   "metadata": {},
   "outputs": [],
   "source": [
    "is_holiday = pd.merge(stores, holidays, on='date', how='left')\n",
    "is_holiday = is_holiday[['type', 'locale', 'locale_name', 'description', 'transferred']]\n",
    "is_holiday[['type', 'locale', 'locale_name', 'description', 'transferred']] = is_holiday[['type', 'locale', 'locale_name', 'description', 'transferred']].fillna(-1)\n",
    "is_holiday['is_holiday'] = is_holiday['transferred'].apply(transform_value)\n",
    "stores['is_holiday'] = is_holiday['is_holiday']"
   ]
  },
  {
   "cell_type": "code",
   "execution_count": 245,
   "metadata": {},
   "outputs": [
    {
     "data": {
      "text/html": [
       "<div>\n",
       "<style scoped>\n",
       "    .dataframe tbody tr th:only-of-type {\n",
       "        vertical-align: middle;\n",
       "    }\n",
       "\n",
       "    .dataframe tbody tr th {\n",
       "        vertical-align: top;\n",
       "    }\n",
       "\n",
       "    .dataframe thead th {\n",
       "        text-align: right;\n",
       "    }\n",
       "</style>\n",
       "<table border=\"1\" class=\"dataframe\">\n",
       "  <thead>\n",
       "    <tr style=\"text-align: right;\">\n",
       "      <th></th>\n",
       "      <th>id</th>\n",
       "      <th>date</th>\n",
       "      <th>store_nbr</th>\n",
       "      <th>family</th>\n",
       "      <th>sales</th>\n",
       "      <th>on_promotion</th>\n",
       "      <th>day</th>\n",
       "      <th>oil_price</th>\n",
       "      <th>has_oil_price</th>\n",
       "      <th>is_holiday</th>\n",
       "    </tr>\n",
       "  </thead>\n",
       "  <tbody>\n",
       "    <tr>\n",
       "      <th>0</th>\n",
       "      <td>2865456</td>\n",
       "      <td>2017-06-01</td>\n",
       "      <td>1</td>\n",
       "      <td>AUTOMOTIVE</td>\n",
       "      <td>6.000</td>\n",
       "      <td>0</td>\n",
       "      <td>1</td>\n",
       "      <td>48.32</td>\n",
       "      <td>True</td>\n",
       "      <td>False</td>\n",
       "    </tr>\n",
       "    <tr>\n",
       "      <th>1</th>\n",
       "      <td>2865457</td>\n",
       "      <td>2017-06-01</td>\n",
       "      <td>1</td>\n",
       "      <td>BABY CARE</td>\n",
       "      <td>0.000</td>\n",
       "      <td>0</td>\n",
       "      <td>1</td>\n",
       "      <td>48.32</td>\n",
       "      <td>True</td>\n",
       "      <td>False</td>\n",
       "    </tr>\n",
       "    <tr>\n",
       "      <th>2</th>\n",
       "      <td>2865458</td>\n",
       "      <td>2017-06-01</td>\n",
       "      <td>1</td>\n",
       "      <td>BEAUTY</td>\n",
       "      <td>1.000</td>\n",
       "      <td>0</td>\n",
       "      <td>1</td>\n",
       "      <td>48.32</td>\n",
       "      <td>True</td>\n",
       "      <td>False</td>\n",
       "    </tr>\n",
       "    <tr>\n",
       "      <th>3</th>\n",
       "      <td>2865459</td>\n",
       "      <td>2017-06-01</td>\n",
       "      <td>1</td>\n",
       "      <td>BEVERAGES</td>\n",
       "      <td>2250.000</td>\n",
       "      <td>9</td>\n",
       "      <td>1</td>\n",
       "      <td>48.32</td>\n",
       "      <td>True</td>\n",
       "      <td>False</td>\n",
       "    </tr>\n",
       "    <tr>\n",
       "      <th>4</th>\n",
       "      <td>2865460</td>\n",
       "      <td>2017-06-01</td>\n",
       "      <td>1</td>\n",
       "      <td>BOOKS</td>\n",
       "      <td>3.000</td>\n",
       "      <td>0</td>\n",
       "      <td>1</td>\n",
       "      <td>48.32</td>\n",
       "      <td>True</td>\n",
       "      <td>False</td>\n",
       "    </tr>\n",
       "    <tr>\n",
       "      <th>...</th>\n",
       "      <td>...</td>\n",
       "      <td>...</td>\n",
       "      <td>...</td>\n",
       "      <td>...</td>\n",
       "      <td>...</td>\n",
       "      <td>...</td>\n",
       "      <td>...</td>\n",
       "      <td>...</td>\n",
       "      <td>...</td>\n",
       "      <td>...</td>\n",
       "    </tr>\n",
       "    <tr>\n",
       "      <th>135427</th>\n",
       "      <td>3000883</td>\n",
       "      <td>2017-08-15</td>\n",
       "      <td>9</td>\n",
       "      <td>POULTRY</td>\n",
       "      <td>438.133</td>\n",
       "      <td>0</td>\n",
       "      <td>15</td>\n",
       "      <td>47.57</td>\n",
       "      <td>True</td>\n",
       "      <td>False</td>\n",
       "    </tr>\n",
       "    <tr>\n",
       "      <th>135428</th>\n",
       "      <td>3000884</td>\n",
       "      <td>2017-08-15</td>\n",
       "      <td>9</td>\n",
       "      <td>PREPARED FOODS</td>\n",
       "      <td>154.553</td>\n",
       "      <td>1</td>\n",
       "      <td>15</td>\n",
       "      <td>47.57</td>\n",
       "      <td>True</td>\n",
       "      <td>False</td>\n",
       "    </tr>\n",
       "    <tr>\n",
       "      <th>135429</th>\n",
       "      <td>3000885</td>\n",
       "      <td>2017-08-15</td>\n",
       "      <td>9</td>\n",
       "      <td>PRODUCE</td>\n",
       "      <td>2419.729</td>\n",
       "      <td>148</td>\n",
       "      <td>15</td>\n",
       "      <td>47.57</td>\n",
       "      <td>True</td>\n",
       "      <td>False</td>\n",
       "    </tr>\n",
       "    <tr>\n",
       "      <th>135430</th>\n",
       "      <td>3000886</td>\n",
       "      <td>2017-08-15</td>\n",
       "      <td>9</td>\n",
       "      <td>SCHOOL AND OFFICE SUPPLIES</td>\n",
       "      <td>121.000</td>\n",
       "      <td>8</td>\n",
       "      <td>15</td>\n",
       "      <td>47.57</td>\n",
       "      <td>True</td>\n",
       "      <td>False</td>\n",
       "    </tr>\n",
       "    <tr>\n",
       "      <th>135431</th>\n",
       "      <td>3000887</td>\n",
       "      <td>2017-08-15</td>\n",
       "      <td>9</td>\n",
       "      <td>SEAFOOD</td>\n",
       "      <td>16.000</td>\n",
       "      <td>0</td>\n",
       "      <td>15</td>\n",
       "      <td>47.57</td>\n",
       "      <td>True</td>\n",
       "      <td>False</td>\n",
       "    </tr>\n",
       "  </tbody>\n",
       "</table>\n",
       "<p>135432 rows × 10 columns</p>\n",
       "</div>"
      ],
      "text/plain": [
       "             id       date  store_nbr                      family     sales  \\\n",
       "0       2865456 2017-06-01          1                  AUTOMOTIVE     6.000   \n",
       "1       2865457 2017-06-01          1                   BABY CARE     0.000   \n",
       "2       2865458 2017-06-01          1                      BEAUTY     1.000   \n",
       "3       2865459 2017-06-01          1                   BEVERAGES  2250.000   \n",
       "4       2865460 2017-06-01          1                       BOOKS     3.000   \n",
       "...         ...        ...        ...                         ...       ...   \n",
       "135427  3000883 2017-08-15          9                     POULTRY   438.133   \n",
       "135428  3000884 2017-08-15          9              PREPARED FOODS   154.553   \n",
       "135429  3000885 2017-08-15          9                     PRODUCE  2419.729   \n",
       "135430  3000886 2017-08-15          9  SCHOOL AND OFFICE SUPPLIES   121.000   \n",
       "135431  3000887 2017-08-15          9                     SEAFOOD    16.000   \n",
       "\n",
       "        on_promotion  day  oil_price  has_oil_price  is_holiday  \n",
       "0                  0    1      48.32           True       False  \n",
       "1                  0    1      48.32           True       False  \n",
       "2                  0    1      48.32           True       False  \n",
       "3                  9    1      48.32           True       False  \n",
       "4                  0    1      48.32           True       False  \n",
       "...              ...  ...        ...            ...         ...  \n",
       "135427             0   15      47.57           True       False  \n",
       "135428             1   15      47.57           True       False  \n",
       "135429           148   15      47.57           True       False  \n",
       "135430             8   15      47.57           True       False  \n",
       "135431             0   15      47.57           True       False  \n",
       "\n",
       "[135432 rows x 10 columns]"
      ]
     },
     "execution_count": 245,
     "metadata": {},
     "output_type": "execute_result"
    }
   ],
   "source": [
    "stores"
   ]
  }
 ],
 "metadata": {
  "kernelspec": {
   "display_name": "torchenv",
   "language": "python",
   "name": "python3"
  },
  "language_info": {
   "codemirror_mode": {
    "name": "ipython",
    "version": 3
   },
   "file_extension": ".py",
   "mimetype": "text/x-python",
   "name": "python",
   "nbconvert_exporter": "python",
   "pygments_lexer": "ipython3",
   "version": "3.11.5"
  }
 },
 "nbformat": 4,
 "nbformat_minor": 2
}
